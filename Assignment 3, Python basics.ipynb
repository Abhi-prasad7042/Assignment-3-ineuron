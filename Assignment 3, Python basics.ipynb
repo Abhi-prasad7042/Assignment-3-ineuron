{
 "cells": [
  {
   "cell_type": "markdown",
   "id": "e3351bcb",
   "metadata": {},
   "source": [
    "### Question1\n",
    "\n",
    "Why are functions advantageous to have in your program?\n",
    "\n",
    "### Answer:-\n",
    "\n",
    "Having a function in our program is good because it reduce the duplicate code like we do not have to write the same code again again. It saves lots of time and also makes our program easy. "
   ]
  },
  {
   "cell_type": "markdown",
   "id": "0ba74588",
   "metadata": {},
   "source": [
    "### Question2\n",
    "\n",
    "When does the code in a function run: when it's specified or when it's called?\n",
    "\n",
    "### Answer:-\n",
    "\n",
    "Function run when it's called. Function will never execute the code when it's specified."
   ]
  },
  {
   "cell_type": "markdown",
   "id": "e509d6f4",
   "metadata": {},
   "source": [
    "### Question3\n",
    "\n",
    "What statement creates a function?\n",
    "\n",
    "### Answer:-\n",
    "\n",
    "The statement that creates function is `def`. Whenever we have to create a function we always start with `def`."
   ]
  },
  {
   "cell_type": "markdown",
   "id": "482cc1a7",
   "metadata": {},
   "source": [
    "### Question4\n",
    "\n",
    "What is the difference between a function and a function call?\n",
    "\n",
    "### Answer:-\n",
    "\n",
    "When we make or specified a function that is function and when we call that function and it executes we say that it's a function call. This is difference between function and function call"
   ]
  },
  {
   "cell_type": "code",
   "execution_count": 14,
   "id": "a386975a",
   "metadata": {},
   "outputs": [
    {
     "data": {
      "text/plain": [
       "50"
      ]
     },
     "execution_count": 14,
     "metadata": {},
     "output_type": "execute_result"
    }
   ],
   "source": [
    "def multiple(a,b):    #function\n",
    "    return a*b\n",
    "\n",
    "multiple(10,5)       #function call"
   ]
  },
  {
   "cell_type": "markdown",
   "id": "aa38c8e4",
   "metadata": {},
   "source": [
    "### Question5\n",
    "\n",
    "How many global scopes are there in a Python program? How many local scopes?\n",
    "\n",
    "### Answer:-\n",
    "\n",
    "There is only one global scope in python which is define in the top level of program or module. Whenever we call a function then our local scope is created and after execution of function it automatically destroyed."
   ]
  },
  {
   "cell_type": "markdown",
   "id": "51eb4d86",
   "metadata": {},
   "source": [
    "### Question6\n",
    "\n",
    "What happens to variables in a local scope when the function call returns?\n",
    "\n",
    "### Answer:-\n",
    "\n",
    "When function calls returns it destroyed all the local scopes and variable will be reset."
   ]
  },
  {
   "cell_type": "markdown",
   "id": "6e76140c",
   "metadata": {},
   "source": [
    "### Question7\n",
    "\n",
    "What is the concept of a return value? Is it possible to have a return value in an expression?\n",
    "\n",
    "### Answer:-\n",
    "\n",
    "A return statement is always return a result and if we call return before any statement it will end the execution whenever execution reaches to the return. Or we can say the return also ends the function. If we do not use return in our function then it will return none. **Yes** it is possible to have a return value in an expression.\n"
   ]
  },
  {
   "cell_type": "markdown",
   "id": "a9a62aa3",
   "metadata": {},
   "source": [
    "### Question8\n",
    "\n",
    "If a function does not have a return statement, what is return value of a call to that function?\n",
    "\n",
    "### Answer:-\n",
    "\n",
    "If we do not have return statement in our function, then it will return a **None** value."
   ]
  },
  {
   "cell_type": "markdown",
   "id": "069c2f40",
   "metadata": {},
   "source": [
    "### Question9\n",
    "\n",
    "How do you make a function variable refer to the global variable?\n",
    "\n",
    "### Answer:-\n",
    "\n",
    "If you have to refer a function variable to the global variable we have to use **global** keyword."
   ]
  },
  {
   "cell_type": "markdown",
   "id": "9738d921",
   "metadata": {},
   "source": [
    "### Question10\n",
    "\n",
    "What is the data type of None?\n",
    "\n",
    "### Answer:-\n",
    "\n",
    "The data type of None is Nonetype."
   ]
  },
  {
   "cell_type": "markdown",
   "id": "9c0fb1d4",
   "metadata": {},
   "source": [
    "### Question11\n",
    "\n",
    "What does the sentence import areallyourpetsnamederic do?\n",
    "\n",
    "### Answer:-\n",
    "\n",
    "This statement import areallyourpetsnamederic imports this name module. If its present in directory."
   ]
  },
  {
   "cell_type": "markdown",
   "id": "8275194a",
   "metadata": {},
   "source": [
    "### Question12\n",
    "\n",
    "If you had a bacon() feature in a spam module, what would you call it after importing spam?\n",
    "\n",
    "### Answer:- \n",
    "\n",
    "After importing spam we call like this spam.bacon()"
   ]
  },
  {
   "cell_type": "markdown",
   "id": "cc0247eb",
   "metadata": {},
   "source": [
    "### Question13\n",
    "\n",
    "What can you do to save a programme from crashing if it encounters and error?\n",
    "\n",
    "### Answer:-\n",
    "\n",
    "I'll use try except block or we can say exception handling. So, I will put the code in try block."
   ]
  },
  {
   "cell_type": "markdown",
   "id": "52a89abb",
   "metadata": {},
   "source": [
    "### Question14\n",
    "\n",
    "What is the purpose of the try clause? What is the purpose of the except clause?\n",
    "\n",
    "### Answer:- \n",
    "\n",
    "Try clause helps our program to encounter errors and its saves our program from crashing. Except clause codes run when we get an error in our try block or try clause. So, that we can handle the error."
   ]
  }
 ],
 "metadata": {
  "kernelspec": {
   "display_name": "Python 3 (ipykernel)",
   "language": "python",
   "name": "python3"
  },
  "language_info": {
   "codemirror_mode": {
    "name": "ipython",
    "version": 3
   },
   "file_extension": ".py",
   "mimetype": "text/x-python",
   "name": "python",
   "nbconvert_exporter": "python",
   "pygments_lexer": "ipython3",
   "version": "3.8.11"
  }
 },
 "nbformat": 4,
 "nbformat_minor": 5
}
